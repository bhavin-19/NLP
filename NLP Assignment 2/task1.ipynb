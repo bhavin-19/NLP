{
 "cells": [
  {
   "cell_type": "markdown",
   "metadata": {},
   "source": [
    "## Preprocessing\n"
   ]
  },
  {
   "cell_type": "code",
   "execution_count": 1,
   "metadata": {},
   "outputs": [],
   "source": [
    "import json\n",
    "\n",
    "def bio_tagging(sentence, aspect_terms):\n",
    "    \"\"\"Tagging sentence tokens with BIO labels using split() for tokenization\"\"\"\n",
    "    tokens = sentence.split()  # Splitting sentence into tokens using spaces\n",
    "    labels = [\"O\"] * len(tokens)  # Starting with default 'O' labels\n",
    "\n",
    "    for term_info in aspect_terms:\n",
    "        term = term_info[\"term\"]\n",
    "        term_tokens = term.split()  # Breaking down aspect terms into tokens using split()\n",
    "\n",
    "        # Looking for matching term sequences\n",
    "        for i in range(len(tokens) - len(term_tokens) + 1):\n",
    "            if tokens[i:i+len(term_tokens)] == term_tokens:\n",
    "                labels[i] = \"B\"  # Marking beginning of aspect\n",
    "                for j in range(i+1, i+len(term_tokens)):\n",
    "                    labels[j] = \"I\"  # Continuing aspect term\n",
    "                break  # Preventing overlapping matches\n",
    "\n",
    "    return tokens, labels, [term[\"term\"] for term in aspect_terms]\n",
    "\n",
    "def preprocess_file(input_path, output_path):\n",
    "    \"\"\"Converting raw JSON data to BIO format\"\"\"\n",
    "    with open(input_path, \"r\") as f:\n",
    "        raw_data = json.load(f)\n",
    "\n",
    "    processed_data = []\n",
    "    for entry in raw_data:\n",
    "        tokens, labels, aspect_terms = bio_tagging(entry[\"sentence\"], entry[\"aspect_terms\"])\n",
    "        processed_entry = {\n",
    "            \"sentence\": entry[\"sentence\"],\n",
    "            \"tokens\": tokens,\n",
    "            \"labels\": labels,\n",
    "            \"aspect_terms\": aspect_terms\n",
    "        }\n",
    "        processed_data.append(processed_entry)\n",
    "\n",
    "    # Storing processed records\n",
    "    with open(output_path, \"w\") as f:\n",
    "        json.dump(processed_data, f, indent=2)\n",
    "\n",
    "# Processing training data\n",
    "preprocess_file(\"train.json\", \"train_task1.json\")\n",
    "# Handling validation data\n",
    "preprocess_file(\"val.json\", \"val_task1.json\")"
   ]
  },
  {
   "cell_type": "markdown",
   "metadata": {},
   "source": [
    "## Model Training"
   ]
  },
  {
   "cell_type": "code",
   "execution_count": 4,
   "metadata": {},
   "outputs": [
    {
     "name": "stderr",
     "output_type": "stream",
     "text": [
      "Reading vectors: 400000it [00:25, 15713.83it/s]\n",
      "Reading vectors: 999995it [01:03, 15708.34it/s]\n",
      "Training epoch 1: 100%|██████████| 77/77 [00:00<00:00, 147.49it/s]\n"
     ]
    },
    {
     "name": "stdout",
     "output_type": "stream",
     "text": [
      "Epoch 1: Train Loss = 0.2543, Val Loss = 0.1560\n"
     ]
    },
    {
     "name": "stderr",
     "output_type": "stream",
     "text": [
      "Training epoch 2: 100%|██████████| 77/77 [00:00<00:00, 153.01it/s]\n"
     ]
    },
    {
     "name": "stdout",
     "output_type": "stream",
     "text": [
      "Epoch 2: Train Loss = 0.1684, Val Loss = 0.1321\n"
     ]
    },
    {
     "name": "stderr",
     "output_type": "stream",
     "text": [
      "Training epoch 3: 100%|██████████| 77/77 [00:00<00:00, 151.76it/s]\n"
     ]
    },
    {
     "name": "stdout",
     "output_type": "stream",
     "text": [
      "Epoch 3: Train Loss = 0.1524, Val Loss = 0.1354\n"
     ]
    },
    {
     "name": "stderr",
     "output_type": "stream",
     "text": [
      "Training epoch 4: 100%|██████████| 77/77 [00:00<00:00, 152.53it/s]\n"
     ]
    },
    {
     "name": "stdout",
     "output_type": "stream",
     "text": [
      "Epoch 4: Train Loss = 0.1419, Val Loss = 0.1258\n"
     ]
    },
    {
     "name": "stderr",
     "output_type": "stream",
     "text": [
      "Training epoch 5: 100%|██████████| 77/77 [00:00<00:00, 152.29it/s]\n"
     ]
    },
    {
     "name": "stdout",
     "output_type": "stream",
     "text": [
      "Epoch 5: Train Loss = 0.1333, Val Loss = 0.1241\n"
     ]
    },
    {
     "name": "stderr",
     "output_type": "stream",
     "text": [
      "Training epoch 6: 100%|██████████| 77/77 [00:00<00:00, 148.76it/s]\n"
     ]
    },
    {
     "name": "stdout",
     "output_type": "stream",
     "text": [
      "Epoch 6: Train Loss = 0.1331, Val Loss = 0.1293\n"
     ]
    },
    {
     "name": "stderr",
     "output_type": "stream",
     "text": [
      "Training epoch 7: 100%|██████████| 77/77 [00:00<00:00, 151.75it/s]\n"
     ]
    },
    {
     "name": "stdout",
     "output_type": "stream",
     "text": [
      "Epoch 7: Train Loss = 0.1286, Val Loss = 0.1237\n"
     ]
    },
    {
     "name": "stderr",
     "output_type": "stream",
     "text": [
      "Training epoch 8: 100%|██████████| 77/77 [00:00<00:00, 160.95it/s]\n"
     ]
    },
    {
     "name": "stdout",
     "output_type": "stream",
     "text": [
      "Epoch 8: Train Loss = 0.1220, Val Loss = 0.1220\n"
     ]
    },
    {
     "name": "stderr",
     "output_type": "stream",
     "text": [
      "Training epoch 9: 100%|██████████| 77/77 [00:00<00:00, 163.74it/s]\n"
     ]
    },
    {
     "name": "stdout",
     "output_type": "stream",
     "text": [
      "Epoch 9: Train Loss = 0.1160, Val Loss = 0.1195\n"
     ]
    },
    {
     "name": "stderr",
     "output_type": "stream",
     "text": [
      "Training epoch 10: 100%|██████████| 77/77 [00:00<00:00, 183.12it/s]\n"
     ]
    },
    {
     "name": "stdout",
     "output_type": "stream",
     "text": [
      "Epoch 10: Train Loss = 0.1132, Val Loss = 0.1209\n"
     ]
    },
    {
     "name": "stderr",
     "output_type": "stream",
     "text": [
      "Training epoch 11: 100%|██████████| 77/77 [00:00<00:00, 182.24it/s]\n"
     ]
    },
    {
     "name": "stdout",
     "output_type": "stream",
     "text": [
      "Epoch 11: Train Loss = 0.1061, Val Loss = 0.1261\n"
     ]
    },
    {
     "name": "stderr",
     "output_type": "stream",
     "text": [
      "Training epoch 12: 100%|██████████| 77/77 [00:00<00:00, 181.41it/s]\n"
     ]
    },
    {
     "name": "stdout",
     "output_type": "stream",
     "text": [
      "Epoch 12: Train Loss = 0.1003, Val Loss = 0.1217\n"
     ]
    },
    {
     "name": "stderr",
     "output_type": "stream",
     "text": [
      "Training epoch 13: 100%|██████████| 77/77 [00:00<00:00, 182.94it/s]\n"
     ]
    },
    {
     "name": "stdout",
     "output_type": "stream",
     "text": [
      "Epoch 13: Train Loss = 0.0991, Val Loss = 0.1214\n"
     ]
    },
    {
     "name": "stderr",
     "output_type": "stream",
     "text": [
      "Training epoch 14: 100%|██████████| 77/77 [00:00<00:00, 184.50it/s]\n"
     ]
    },
    {
     "name": "stdout",
     "output_type": "stream",
     "text": [
      "Epoch 14: Train Loss = 0.0921, Val Loss = 0.1228\n"
     ]
    },
    {
     "name": "stderr",
     "output_type": "stream",
     "text": [
      "Training epoch 15: 100%|██████████| 77/77 [00:00<00:00, 184.46it/s]\n"
     ]
    },
    {
     "name": "stdout",
     "output_type": "stream",
     "text": [
      "Epoch 15: Train Loss = 0.0880, Val Loss = 0.1309\n"
     ]
    },
    {
     "name": "stderr",
     "output_type": "stream",
     "text": [
      "Training epoch 16: 100%|██████████| 77/77 [00:00<00:00, 182.91it/s]\n"
     ]
    },
    {
     "name": "stdout",
     "output_type": "stream",
     "text": [
      "Epoch 16: Train Loss = 0.0857, Val Loss = 0.1243\n",
      "Saved trained model at rnn_glove.pt\n"
     ]
    },
    {
     "data": {
      "image/png": "[encoded data removed]",
      "text/plain": [
       "<Figure size 1000x600 with 1 Axes>"
      ]
     },
     "metadata": {},
     "output_type": "display_data"
    },
    {
     "name": "stderr",
     "output_type": "stream",
     "text": [
      "Training epoch 1: 100%|██████████| 77/77 [00:00<00:00, 181.62it/s]\n"
     ]
    },
    {
     "name": "stdout",
     "output_type": "stream",
     "text": [
      "Epoch 1: Train Loss = 0.3305, Val Loss = 0.1963\n"
     ]
    },
    {
     "name": "stderr",
     "output_type": "stream",
     "text": [
      "Training epoch 2: 100%|██████████| 77/77 [00:00<00:00, 184.25it/s]\n"
     ]
    },
    {
     "name": "stdout",
     "output_type": "stream",
     "text": [
      "Epoch 2: Train Loss = 0.1884, Val Loss = 0.1441\n"
     ]
    },
    {
     "name": "stderr",
     "output_type": "stream",
     "text": [
      "Training epoch 3: 100%|██████████| 77/77 [00:00<00:00, 186.16it/s]\n"
     ]
    },
    {
     "name": "stdout",
     "output_type": "stream",
     "text": [
      "Epoch 3: Train Loss = 0.1592, Val Loss = 0.1315\n"
     ]
    },
    {
     "name": "stderr",
     "output_type": "stream",
     "text": [
      "Training epoch 4: 100%|██████████| 77/77 [00:00<00:00, 185.50it/s]\n"
     ]
    },
    {
     "name": "stdout",
     "output_type": "stream",
     "text": [
      "Epoch 4: Train Loss = 0.1470, Val Loss = 0.1243\n"
     ]
    },
    {
     "name": "stderr",
     "output_type": "stream",
     "text": [
      "Training epoch 5: 100%|██████████| 77/77 [00:00<00:00, 176.72it/s]\n"
     ]
    },
    {
     "name": "stdout",
     "output_type": "stream",
     "text": [
      "Epoch 5: Train Loss = 0.1405, Val Loss = 0.1208\n"
     ]
    },
    {
     "name": "stderr",
     "output_type": "stream",
     "text": [
      "Training epoch 6: 100%|██████████| 77/77 [00:00<00:00, 181.12it/s]\n"
     ]
    },
    {
     "name": "stdout",
     "output_type": "stream",
     "text": [
      "Epoch 6: Train Loss = 0.1376, Val Loss = 0.1263\n"
     ]
    },
    {
     "name": "stderr",
     "output_type": "stream",
     "text": [
      "Training epoch 7: 100%|██████████| 77/77 [00:00<00:00, 185.12it/s]\n"
     ]
    },
    {
     "name": "stdout",
     "output_type": "stream",
     "text": [
      "Epoch 7: Train Loss = 0.1337, Val Loss = 0.1163\n"
     ]
    },
    {
     "name": "stderr",
     "output_type": "stream",
     "text": [
      "Training epoch 8: 100%|██████████| 77/77 [00:00<00:00, 182.74it/s]\n"
     ]
    },
    {
     "name": "stdout",
     "output_type": "stream",
     "text": [
      "Epoch 8: Train Loss = 0.1286, Val Loss = 0.1138\n"
     ]
    },
    {
     "name": "stderr",
     "output_type": "stream",
     "text": [
      "Training epoch 9: 100%|██████████| 77/77 [00:00<00:00, 183.88it/s]\n"
     ]
    },
    {
     "name": "stdout",
     "output_type": "stream",
     "text": [
      "Epoch 9: Train Loss = 0.1280, Val Loss = 0.1165\n"
     ]
    },
    {
     "name": "stderr",
     "output_type": "stream",
     "text": [
      "Training epoch 10: 100%|██████████| 77/77 [00:00<00:00, 183.60it/s]\n"
     ]
    },
    {
     "name": "stdout",
     "output_type": "stream",
     "text": [
      "Epoch 10: Train Loss = 0.1235, Val Loss = 0.1176\n"
     ]
    },
    {
     "name": "stderr",
     "output_type": "stream",
     "text": [
      "Training epoch 11: 100%|██████████| 77/77 [00:00<00:00, 182.48it/s]\n"
     ]
    },
    {
     "name": "stdout",
     "output_type": "stream",
     "text": [
      "Epoch 11: Train Loss = 0.1242, Val Loss = 0.1167\n"
     ]
    },
    {
     "name": "stderr",
     "output_type": "stream",
     "text": [
      "Training epoch 12: 100%|██████████| 77/77 [00:00<00:00, 184.24it/s]\n"
     ]
    },
    {
     "name": "stdout",
     "output_type": "stream",
     "text": [
      "Epoch 12: Train Loss = 0.1215, Val Loss = 0.1127\n"
     ]
    },
    {
     "name": "stderr",
     "output_type": "stream",
     "text": [
      "Training epoch 13: 100%|██████████| 77/77 [00:00<00:00, 180.37it/s]\n"
     ]
    },
    {
     "name": "stdout",
     "output_type": "stream",
     "text": [
      "Epoch 13: Train Loss = 0.1156, Val Loss = 0.1168\n"
     ]
    },
    {
     "name": "stderr",
     "output_type": "stream",
     "text": [
      "Training epoch 14: 100%|██████████| 77/77 [00:00<00:00, 182.74it/s]\n"
     ]
    },
    {
     "name": "stdout",
     "output_type": "stream",
     "text": [
      "Epoch 14: Train Loss = 0.1152, Val Loss = 0.1150\n"
     ]
    },
    {
     "name": "stderr",
     "output_type": "stream",
     "text": [
      "Training epoch 15: 100%|██████████| 77/77 [00:00<00:00, 183.93it/s]\n"
     ]
    },
    {
     "name": "stdout",
     "output_type": "stream",
     "text": [
      "Epoch 15: Train Loss = 0.1129, Val Loss = 0.1146\n"
     ]
    },
    {
     "name": "stderr",
     "output_type": "stream",
     "text": [
      "Training epoch 16: 100%|██████████| 77/77 [00:00<00:00, 182.03it/s]\n"
     ]
    },
    {
     "name": "stdout",
     "output_type": "stream",
     "text": [
      "Epoch 16: Train Loss = 0.1115, Val Loss = 0.1144\n",
      "Saved trained model at rnn_fasttext.pt\n"
     ]
    },
    {
     "data": {
      "image/png": "[encoded data removed]",
      "text/plain": [
       "<Figure size 1000x600 with 1 Axes>"
      ]
     },
     "metadata": {},
     "output_type": "display_data"
    },
    {
     "name": "stderr",
     "output_type": "stream",
     "text": [
      "Training epoch 1: 100%|██████████| 77/77 [00:01<00:00, 66.46it/s]\n"
     ]
    },
    {
     "name": "stdout",
     "output_type": "stream",
     "text": [
      "Epoch 1: Train Loss = 0.2644, Val Loss = 0.1414\n"
     ]
    },
    {
     "name": "stderr",
     "output_type": "stream",
     "text": [
      "Training epoch 2: 100%|██████████| 77/77 [00:01<00:00, 65.24it/s]\n"
     ]
    },
    {
     "name": "stdout",
     "output_type": "stream",
     "text": [
      "Epoch 2: Train Loss = 0.1590, Val Loss = 0.1229\n"
     ]
    },
    {
     "name": "stderr",
     "output_type": "stream",
     "text": [
      "Training epoch 3: 100%|██████████| 77/77 [00:01<00:00, 66.10it/s]\n"
     ]
    },
    {
     "name": "stdout",
     "output_type": "stream",
     "text": [
      "Epoch 3: Train Loss = 0.1371, Val Loss = 0.1370\n"
     ]
    },
    {
     "name": "stderr",
     "output_type": "stream",
     "text": [
      "Training epoch 4: 100%|██████████| 77/77 [00:01<00:00, 67.41it/s]\n"
     ]
    },
    {
     "name": "stdout",
     "output_type": "stream",
     "text": [
      "Epoch 4: Train Loss = 0.1294, Val Loss = 0.1199\n"
     ]
    },
    {
     "name": "stderr",
     "output_type": "stream",
     "text": [
      "Training epoch 5: 100%|██████████| 77/77 [00:01<00:00, 66.24it/s]\n"
     ]
    },
    {
     "name": "stdout",
     "output_type": "stream",
     "text": [
      "Epoch 5: Train Loss = 0.1222, Val Loss = 0.1157\n"
     ]
    },
    {
     "name": "stderr",
     "output_type": "stream",
     "text": [
      "Training epoch 6: 100%|██████████| 77/77 [00:01<00:00, 65.86it/s]\n"
     ]
    },
    {
     "name": "stdout",
     "output_type": "stream",
     "text": [
      "Epoch 6: Train Loss = 0.1090, Val Loss = 0.1179\n"
     ]
    },
    {
     "name": "stderr",
     "output_type": "stream",
     "text": [
      "Training epoch 7: 100%|██████████| 77/77 [00:01<00:00, 66.03it/s]\n"
     ]
    },
    {
     "name": "stdout",
     "output_type": "stream",
     "text": [
      "Epoch 7: Train Loss = 0.0962, Val Loss = 0.1154\n"
     ]
    },
    {
     "name": "stderr",
     "output_type": "stream",
     "text": [
      "Training epoch 8: 100%|██████████| 77/77 [00:01<00:00, 65.03it/s]\n"
     ]
    },
    {
     "name": "stdout",
     "output_type": "stream",
     "text": [
      "Epoch 8: Train Loss = 0.0861, Val Loss = 0.1237\n"
     ]
    },
    {
     "name": "stderr",
     "output_type": "stream",
     "text": [
      "Training epoch 9: 100%|██████████| 77/77 [00:01<00:00, 66.98it/s]\n"
     ]
    },
    {
     "name": "stdout",
     "output_type": "stream",
     "text": [
      "Epoch 9: Train Loss = 0.0737, Val Loss = 0.1303\n"
     ]
    },
    {
     "name": "stderr",
     "output_type": "stream",
     "text": [
      "Training epoch 10: 100%|██████████| 77/77 [00:01<00:00, 67.26it/s]\n"
     ]
    },
    {
     "name": "stdout",
     "output_type": "stream",
     "text": [
      "Epoch 10: Train Loss = 0.0650, Val Loss = 0.1439\n"
     ]
    },
    {
     "name": "stderr",
     "output_type": "stream",
     "text": [
      "Training epoch 11: 100%|██████████| 77/77 [00:01<00:00, 65.53it/s]\n"
     ]
    },
    {
     "name": "stdout",
     "output_type": "stream",
     "text": [
      "Epoch 11: Train Loss = 0.0623, Val Loss = 0.1498\n"
     ]
    },
    {
     "name": "stderr",
     "output_type": "stream",
     "text": [
      "Training epoch 12: 100%|██████████| 77/77 [00:01<00:00, 67.24it/s]\n"
     ]
    },
    {
     "name": "stdout",
     "output_type": "stream",
     "text": [
      "Epoch 12: Train Loss = 0.0493, Val Loss = 0.1718\n",
      "Saved trained model at gru_glove.pt\n"
     ]
    },
    {
     "data": {
      "image/png": "[encoded data removed]",
      "text/plain": [
       "<Figure size 1000x600 with 1 Axes>"
      ]
     },
     "metadata": {},
     "output_type": "display_data"
    },
    {
     "name": "stderr",
     "output_type": "stream",
     "text": [
      "Training epoch 1: 100%|██████████| 77/77 [00:00<00:00, 171.74it/s]\n"
     ]
    },
    {
     "name": "stdout",
     "output_type": "stream",
     "text": [
      "Epoch 1: Train Loss = 0.3574, Val Loss = 0.2162\n"
     ]
    },
    {
     "name": "stderr",
     "output_type": "stream",
     "text": [
      "Training epoch 2: 100%|██████████| 77/77 [00:00<00:00, 174.08it/s]\n"
     ]
    },
    {
     "name": "stdout",
     "output_type": "stream",
     "text": [
      "Epoch 2: Train Loss = 0.1970, Val Loss = 0.1493\n"
     ]
    },
    {
     "name": "stderr",
     "output_type": "stream",
     "text": [
      "Training epoch 3: 100%|██████████| 77/77 [00:00<00:00, 174.48it/s]\n"
     ]
    },
    {
     "name": "stdout",
     "output_type": "stream",
     "text": [
      "Epoch 3: Train Loss = 0.1549, Val Loss = 0.1283\n"
     ]
    },
    {
     "name": "stderr",
     "output_type": "stream",
     "text": [
      "Training epoch 4: 100%|██████████| 77/77 [00:00<00:00, 171.03it/s]\n"
     ]
    },
    {
     "name": "stdout",
     "output_type": "stream",
     "text": [
      "Epoch 4: Train Loss = 0.1446, Val Loss = 0.1190\n"
     ]
    },
    {
     "name": "stderr",
     "output_type": "stream",
     "text": [
      "Training epoch 5: 100%|██████████| 77/77 [00:00<00:00, 170.48it/s]\n"
     ]
    },
    {
     "name": "stdout",
     "output_type": "stream",
     "text": [
      "Epoch 5: Train Loss = 0.1363, Val Loss = 0.1149\n"
     ]
    },
    {
     "name": "stderr",
     "output_type": "stream",
     "text": [
      "Training epoch 6: 100%|██████████| 77/77 [00:00<00:00, 169.78it/s]\n"
     ]
    },
    {
     "name": "stdout",
     "output_type": "stream",
     "text": [
      "Epoch 6: Train Loss = 0.1311, Val Loss = 0.1130\n"
     ]
    },
    {
     "name": "stderr",
     "output_type": "stream",
     "text": [
      "Training epoch 7: 100%|██████████| 77/77 [00:00<00:00, 173.43it/s]\n"
     ]
    },
    {
     "name": "stdout",
     "output_type": "stream",
     "text": [
      "Epoch 7: Train Loss = 0.1265, Val Loss = 0.1123\n"
     ]
    },
    {
     "name": "stderr",
     "output_type": "stream",
     "text": [
      "Training epoch 8: 100%|██████████| 77/77 [00:00<00:00, 172.38it/s]\n"
     ]
    },
    {
     "name": "stdout",
     "output_type": "stream",
     "text": [
      "Epoch 8: Train Loss = 0.1264, Val Loss = 0.1120\n"
     ]
    },
    {
     "name": "stderr",
     "output_type": "stream",
     "text": [
      "Training epoch 9: 100%|██████████| 77/77 [00:00<00:00, 171.30it/s]\n"
     ]
    },
    {
     "name": "stdout",
     "output_type": "stream",
     "text": [
      "Epoch 9: Train Loss = 0.1212, Val Loss = 0.1134\n"
     ]
    },
    {
     "name": "stderr",
     "output_type": "stream",
     "text": [
      "Training epoch 10: 100%|██████████| 77/77 [00:00<00:00, 173.33it/s]\n"
     ]
    },
    {
     "name": "stdout",
     "output_type": "stream",
     "text": [
      "Epoch 10: Train Loss = 0.1166, Val Loss = 0.1098\n"
     ]
    },
    {
     "name": "stderr",
     "output_type": "stream",
     "text": [
      "Training epoch 11: 100%|██████████| 77/77 [00:00<00:00, 172.39it/s]\n"
     ]
    },
    {
     "name": "stdout",
     "output_type": "stream",
     "text": [
      "Epoch 11: Train Loss = 0.1132, Val Loss = 0.1084\n"
     ]
    },
    {
     "name": "stderr",
     "output_type": "stream",
     "text": [
      "Training epoch 12: 100%|██████████| 77/77 [00:00<00:00, 173.26it/s]\n"
     ]
    },
    {
     "name": "stdout",
     "output_type": "stream",
     "text": [
      "Epoch 12: Train Loss = 0.1101, Val Loss = 0.1112\n"
     ]
    },
    {
     "name": "stderr",
     "output_type": "stream",
     "text": [
      "Training epoch 13: 100%|██████████| 77/77 [00:00<00:00, 167.87it/s]\n"
     ]
    },
    {
     "name": "stdout",
     "output_type": "stream",
     "text": [
      "Epoch 13: Train Loss = 0.1070, Val Loss = 0.1098\n"
     ]
    },
    {
     "name": "stderr",
     "output_type": "stream",
     "text": [
      "Training epoch 14: 100%|██████████| 77/77 [00:00<00:00, 170.93it/s]\n"
     ]
    },
    {
     "name": "stdout",
     "output_type": "stream",
     "text": [
      "Epoch 14: Train Loss = 0.1054, Val Loss = 0.1152\n"
     ]
    },
    {
     "name": "stderr",
     "output_type": "stream",
     "text": [
      "Training epoch 15: 100%|██████████| 77/77 [00:00<00:00, 173.83it/s]\n"
     ]
    },
    {
     "name": "stdout",
     "output_type": "stream",
     "text": [
      "Epoch 15: Train Loss = 0.1040, Val Loss = 0.1082\n"
     ]
    },
    {
     "name": "stderr",
     "output_type": "stream",
     "text": [
      "Training epoch 16: 100%|██████████| 77/77 [00:00<00:00, 173.87it/s]\n"
     ]
    },
    {
     "name": "stdout",
     "output_type": "stream",
     "text": [
      "Epoch 16: Train Loss = 0.1008, Val Loss = 0.1085\n",
      "Saved trained model at gru_fasttext.pt\n"
     ]
    },
    {
     "data": {
      "image/png": "[encoded data removed]",
      "text/plain": [
       "<Figure size 1000x600 with 1 Axes>"
      ]
     },
     "metadata": {},
     "output_type": "display_data"
    }
   ],
   "source": [
    "import json\n",
    "import numpy as np\n",
    "import torch\n",
    "import torch.nn as nn\n",
    "import torch.optim as optim\n",
    "from torch.utils.data import Dataset, DataLoader\n",
    "from tqdm import tqdm\n",
    "import matplotlib.pyplot as plt\n",
    "# Preparing dataset handling\n",
    "class AspectDataset(Dataset):\n",
    "    def __init__(self, data_path, word2idx, label2idx, max_len=50):\n",
    "        with open(data_path, \"r\") as f:\n",
    "            self.data = json.load(f)\n",
    "        self.word2idx = word2idx\n",
    "        self.label2idx = label2idx\n",
    "        self.max_len = max_len\n",
    "        self.pad_token_id = word2idx[\"<pad>\"]  # Padding identifier\n",
    "        self.pad_label_id = -100  # Special value for padding labels\n",
    "\n",
    "    def __len__(self):\n",
    "        return len(self.data)\n",
    "\n",
    "    def __getitem__(self, idx):\n",
    "        tokens = self.data[idx][\"tokens\"]\n",
    "        labels = self.data[idx][\"labels\"]\n",
    "        \n",
    "        # Converting words to numerical IDs\n",
    "        token_ids = [self.word2idx.get(token, self.word2idx[\"<unk>\"]) for token in tokens]\n",
    "        label_ids = [self.label2idx[label] for label in labels]\n",
    "        \n",
    "        # Adjusting length for long sequences\n",
    "        if len(token_ids) > self.max_len:\n",
    "            token_ids = token_ids[:self.max_len]\n",
    "            label_ids = label_ids[:self.max_len]\n",
    "        \n",
    "        # Adding padding to maintain consistent size\n",
    "        padded_token_ids = token_ids + [self.pad_token_id] * (self.max_len - len(token_ids))\n",
    "        padded_label_ids = label_ids + [self.pad_label_id] * (self.max_len - len(label_ids))\n",
    "        mask = [1] * len(token_ids) + [0] * (self.max_len - len(token_ids))\n",
    "\n",
    "        return (\n",
    "            torch.tensor(padded_token_ids),\n",
    "            torch.tensor(padded_label_ids),\n",
    "            torch.tensor(mask)\n",
    "        )\n",
    "\n",
    "# Loading word embeddings\n",
    "def load_embeddings(embedding_path):\n",
    "    \"\"\"Processing word vector files\"\"\"\n",
    "    word2vec = {}\n",
    "    with open(embedding_path, \"r\", encoding=\"utf-8\") as f:\n",
    "        for line in tqdm(f, desc=\"Reading vectors\"):\n",
    "            parts = line.strip().split()\n",
    "            word = parts[0]\n",
    "            vector = np.asarray(parts[1:], dtype=\"float32\")\n",
    "            word2vec[word] = vector\n",
    "    return word2vec\n",
    "\n",
    "# Initializing embedding sources\n",
    "GLOVE_PATH = \"glove.6B.300d.txt\"\n",
    "FASTTEXT_PATH = \"wiki-news-300d-1M.vec\"\n",
    "\n",
    "glove_embeddings = load_embeddings(GLOVE_PATH)\n",
    "fasttext_embeddings = load_embeddings(FASTTEXT_PATH)\n",
    "\n",
    "# Creating vocabulary reference\n",
    "vocab = [\"<pad>\", \"<unk>\"] + list(glove_embeddings.keys())\n",
    "word2idx = {word: idx for idx, word in enumerate(vocab)}\n",
    "\n",
    "def build_embedding_matrix(embeddings, vocab, word2idx, embedding_dim=300):\n",
    "    \"\"\"Building numerical representations for vocabulary\"\"\"\n",
    "    embedding_matrix = np.zeros((len(vocab), embedding_dim))\n",
    "    for word, idx in word2idx.items():\n",
    "        if word in embeddings:\n",
    "            embedding_matrix[idx] = embeddings[word]\n",
    "        else:\n",
    "            embedding_matrix[idx] = np.random.normal(scale=0.6, size=(embedding_dim,))\n",
    "    return embedding_matrix\n",
    "\n",
    "glove_matrix = build_embedding_matrix(glove_embeddings, vocab, word2idx)\n",
    "fasttext_matrix = build_embedding_matrix(fasttext_embeddings, vocab, word2idx)\n",
    "\n",
    "\n",
    "def save_predictions(model, data_loader, word2idx, idx2label, output_file=\"output.txt\"):\n",
    "    \"\"\"Storing model predictions with true labels\"\"\"\n",
    "    device = torch.device(\"cuda\" if torch.cuda.is_available() else \"cpu\")\n",
    "    model.to(device)\n",
    "    model.eval()\n",
    "\n",
    "    idx2word = {idx: word for word, idx in word2idx.items()}\n",
    "\n",
    "    with open(output_file, \"w\") as f:\n",
    "        for batch in data_loader:\n",
    "            token_ids, label_ids, mask = [t.to(device) for t in batch]\n",
    "            with torch.no_grad():\n",
    "                logits = model(token_ids)\n",
    "                preds = torch.argmax(logits, dim=-1).cpu().numpy()\n",
    "                labels = label_ids.cpu().numpy()\n",
    "\n",
    "            tokens = [[idx2word[idx] for idx in seq] for seq in token_ids.cpu().numpy()]\n",
    "\n",
    "            for i in range(len(tokens)):\n",
    "                for j in range(len(tokens[i])):\n",
    "                    if mask[i][j] == 1:  # Skipping padding\n",
    "                        token = tokens[i][j]\n",
    "                        true_tag = idx2label[labels[i][j]]\n",
    "                        pred_tag = idx2label[preds[i][j]]\n",
    "\n",
    "                        # Formatting labels for evaluation\n",
    "                        true_tag = f\"{true_tag}-ASPECT\" if true_tag != \"O\" else \"O\"\n",
    "                        pred_tag = f\"{pred_tag}-ASPECT\" if pred_tag != \"O\" else \"O\"\n",
    "\n",
    "                        f.write(f\"{token} {true_tag} {pred_tag}\\n\")\n",
    "                f.write(\"\\n\")\n",
    "\n",
    "# Defining network architectures\n",
    "class RNNModel(nn.Module):\n",
    "    \"\"\"RNN-based architecture for aspect detection\"\"\"\n",
    "    def __init__(self, vocab_size, embedding_dim, hidden_dim, num_layers, bidirectional, embedding_weights=None):\n",
    "        super().__init__()\n",
    "        self.embedding = nn.Embedding(vocab_size, embedding_dim)\n",
    "        if embedding_weights is not None:\n",
    "            self.embedding.weight.data.copy_(torch.from_numpy(embedding_weights))\n",
    "            self.embedding.weight.requires_grad = False  # Keeping embeddings static\n",
    "\n",
    "        self.rnn = nn.RNN(\n",
    "            input_size=embedding_dim,\n",
    "            hidden_size=hidden_dim,\n",
    "            num_layers=num_layers,\n",
    "            bidirectional=bidirectional,\n",
    "            batch_first=True\n",
    "        )\n",
    "        self.fc = nn.Linear(hidden_dim * 2 if bidirectional else hidden_dim, 3)\n",
    "\n",
    "    def forward(self, x):\n",
    "        embedded = self.embedding(x)\n",
    "        output, _ = self.rnn(embedded)\n",
    "        return self.fc(output)\n",
    "\n",
    "class GRUModel(nn.Module):\n",
    "    \"\"\"GRU-based sequence processing model\"\"\"\n",
    "    def __init__(self, vocab_size, embedding_dim, hidden_dim, num_layers, bidirectional, embedding_weights=None):\n",
    "        super().__init__()\n",
    "        self.embedding = nn.Embedding(vocab_size, embedding_dim)\n",
    "        if embedding_weights is not None:\n",
    "            self.embedding.weight.data.copy_(torch.from_numpy(embedding_weights))\n",
    "            self.embedding.weight.requires_grad = False\n",
    "\n",
    "        self.gru = nn.GRU(\n",
    "            input_size=embedding_dim,\n",
    "            hidden_size=hidden_dim,\n",
    "            num_layers=num_layers,\n",
    "            bidirectional=bidirectional,\n",
    "            batch_first=True\n",
    "        )\n",
    "        self.fc = nn.Linear(hidden_dim * 2 if bidirectional else hidden_dim, 3)\n",
    "\n",
    "    def forward(self, x):\n",
    "        embedded = self.embedding(x)\n",
    "        output, _ = self.gru(embedded)\n",
    "        return self.fc(output)\n",
    "\n",
    "# Model training process\n",
    "def train_model(model, train_loader, val_loader, epochs=10, lr=0.001, model_save_path=\"best_model.pt\", model_name=\"Model\"):\n",
    "    \"\"\"Managing model training and evaluation\"\"\"\n",
    "    device = torch.device(\"cuda\" if torch.cuda.is_available() else \"cpu\")\n",
    "    model.to(device)\n",
    "    optimizer = optim.Adam(model.parameters(), lr=lr)\n",
    "    criterion = nn.CrossEntropyLoss(ignore_index=-100)\n",
    "\n",
    "    train_losses = []\n",
    "    val_losses = []\n",
    "\n",
    "    for epoch in range(epochs):\n",
    "        model.train()\n",
    "        train_loss = 0.0\n",
    "        for batch in tqdm(train_loader, desc=f\"Training epoch {epoch+1}\"):\n",
    "            token_ids, label_ids, mask = [t.to(device) for t in batch]\n",
    "            optimizer.zero_grad()\n",
    "            logits = model(token_ids)\n",
    "            loss = criterion(logits.view(-1, 3), label_ids.view(-1))\n",
    "            loss.backward()\n",
    "            optimizer.step()\n",
    "            train_loss += loss.item()\n",
    "\n",
    "        avg_train_loss = train_loss / len(train_loader)\n",
    "        train_losses.append(avg_train_loss)\n",
    "\n",
    "        # Validating current model state\n",
    "        val_loss = 0.0\n",
    "        model.eval()\n",
    "        with torch.no_grad():\n",
    "            for batch in val_loader:\n",
    "                token_ids, label_ids, mask = [t.to(device) for t in batch]\n",
    "                logits = model(token_ids)\n",
    "                loss = criterion(logits.view(-1, 3), label_ids.view(-1))\n",
    "                val_loss += loss.item()\n",
    "\n",
    "        avg_val_loss = val_loss / len(val_loader)\n",
    "        val_losses.append(avg_val_loss)\n",
    "        print(f\"Epoch {epoch+1}: Train Loss = {avg_train_loss:.4f}, Val Loss = {avg_val_loss:.4f}\")\n",
    "\n",
    "    # Finalizing training process\n",
    "    torch.save(model.state_dict(), model_save_path)\n",
    "    print(f\"Saved trained model at {model_save_path}\")\n",
    "\n",
    "    # Visualizing learning progress\n",
    "    plt.figure(figsize=(10, 6))\n",
    "    plt.plot(range(1, epochs + 1), train_losses, label=\"Training\", marker=\"o\")\n",
    "    plt.plot(range(1, epochs + 1), val_losses, label=\"Validation\", marker=\"o\")\n",
    "    plt.xlabel(\"Training Cycles\")\n",
    "    plt.ylabel(\"Loss Values\")\n",
    "    plt.title(f\"Learning Progress: {model_name}\")\n",
    "    plt.legend()\n",
    "    plt.grid(True)\n",
    "    plt.savefig(f\"{model_name}_progress.png\")\n",
    "    plt.show()\n",
    "\n",
    "# Executing model training\n",
    "label2idx = {\"O\": 0, \"B\": 1, \"I\": 2}\n",
    "idx2label = {0: \"O\", 1: \"B\", 2: \"I\"}\n",
    "train_dataset = AspectDataset(\"train_task1.json\", word2idx, label2idx)\n",
    "val_dataset = AspectDataset(\"val_task1.json\", word2idx, label2idx)\n",
    "\n",
    "train_loader = DataLoader(train_dataset, batch_size=32, shuffle=True)\n",
    "val_loader = DataLoader(val_dataset, batch_size=32)\n",
    "\n",
    "# Training different model configurations\n",
    "rnn_glove = RNNModel(\n",
    "    len(vocab), 300, 128, 1, False, glove_matrix)\n",
    "train_model(rnn_glove, train_loader, val_loader, 16, model_save_path=\"rnn_glove.pt\", model_name=\"RNN+GloVe\")\n",
    "\n",
    "rnn_fasttext = RNNModel(\n",
    "    len(vocab), 300, 128, 1, False, fasttext_matrix)\n",
    "train_model(rnn_fasttext, train_loader, val_loader, 16, model_save_path=\"rnn_fasttext.pt\", model_name=\"RNN+FastText\")\n",
    "\n",
    "gru_glove = GRUModel(\n",
    "    len(vocab), 300, 256, 3, False, glove_matrix)\n",
    "train_model(gru_glove, train_loader, val_loader, 12, 0.00115, \"gru_glove.pt\", \"GRU+GloVe\")\n",
    "\n",
    "gru_fasttext = GRUModel(\n",
    "    len(vocab), 300, 128, 1, False, fasttext_matrix)\n",
    "train_model(gru_fasttext, train_loader, val_loader, 16, model_save_path=\"gru_fasttext.pt\", model_name=\"GRU+FastText\")"
   ]
  },
  {
   "cell_type": "markdown",
   "metadata": {},
   "source": [
    "## Inference"
   ]
  },
  {
   "cell_type": "code",
   "execution_count": 5,
   "metadata": {},
   "outputs": [],
   "source": [
    "import json\n",
    "import torch\n",
    "import numpy as np\n",
    "from torch import nn\n",
    "from torch.utils.data import Dataset, DataLoader\n",
    "\n",
    "def bio_tagging(sentence, aspect_terms):\n",
    "    \"\"\"Assigning BIO labels to sentence tokens based on aspect terms using split()\"\"\"\n",
    "    tokens = sentence.split()  # Splitting sentence into tokens using spaces\n",
    "    labels = [\"O\"] * len(tokens)  # Starting with default 'O' labels\n",
    "\n",
    "    for term_info in aspect_terms:\n",
    "        term = term_info[\"term\"]\n",
    "        term_tokens = term.split()  # Breaking down aspect terms into tokens using split()\n",
    "\n",
    "        # Finding term matches in sentence\n",
    "        for i in range(len(tokens) - len(term_tokens) + 1):\n",
    "            if tokens[i:i+len(term_tokens)] == term_tokens:\n",
    "                labels[i] = \"B\"  # Marking start of aspect\n",
    "                for j in range(i+1, i+len(term_tokens)):\n",
    "                    labels[j] = \"I\"  # Continuing aspect term\n",
    "                break  # Preventing overlaps\n",
    "\n",
    "    return tokens, labels, [term[\"term\"] for term in aspect_terms]\n",
    "\n",
    "def preprocess_file(input_path, output_path):\n",
    "    \"\"\"Converting raw JSON data to training format\"\"\"\n",
    "    with open(input_path, \"r\") as f:\n",
    "        raw_data = json.load(f)\n",
    "\n",
    "    processed_data = []\n",
    "    for entry in raw_data:\n",
    "        tokens, labels, aspect_terms = bio_tagging(entry[\"sentence\"], entry[\"aspect_terms\"])\n",
    "        processed_entry = {\n",
    "            \"sentence\": entry[\"sentence\"],\n",
    "            \"tokens\": tokens,\n",
    "            \"labels\": labels,\n",
    "            \"aspect_terms\": aspect_terms\n",
    "        }\n",
    "        processed_data.append(processed_entry)\n",
    "\n",
    "    # Saving formatted data\n",
    "    with open(output_path, \"w\") as f:\n",
    "        json.dump(processed_data, f, indent=2)\n",
    "    \n",
    "    return processed_data\n",
    "\n",
    "class AspectDataset(Dataset):\n",
    "    \"\"\"Preparing data batches for model consumption\"\"\"\n",
    "    def __init__(self, data_path, word2idx, label2idx, max_len=50):\n",
    "        with open(data_path, \"r\") as f:\n",
    "            self.data = json.load(f)\n",
    "        self.word2idx = word2idx\n",
    "        self.label2idx = label2idx\n",
    "        self.max_len = max_len\n",
    "        self.pad_token_id = word2idx[\"<pad>\"]  # Padding marker\n",
    "        self.pad_label_id = -100  # Special value for padding\n",
    "\n",
    "    def __len__(self):\n",
    "        return len(self.data)\n",
    "\n",
    "    def __getitem__(self, idx):\n",
    "        tokens = self.data[idx][\"tokens\"]\n",
    "        labels = self.data[idx][\"labels\"]\n",
    "        \n",
    "        # Converting tokens to numerical IDs\n",
    "        token_ids = [self.word2idx.get(token, self.word2idx[\"<unk>\"]) for token in tokens]\n",
    "        label_ids = [self.label2idx[label] for label in labels]\n",
    "        \n",
    "        # Trimming long sequences\n",
    "        if len(token_ids) > self.max_len:\n",
    "            token_ids = token_ids[:self.max_len]\n",
    "            label_ids = label_ids[:self.max_len]\n",
    "        \n",
    "        # Adding padding to standardize length\n",
    "        padded_token_ids = token_ids + [self.pad_token_id] * (self.max_len - len(token_ids))\n",
    "        padded_label_ids = label_ids + [self.pad_label_id] * (self.max_len - len(label_ids))\n",
    "        mask = [1] * len(token_ids) + [0] * (self.max_len - len(token_ids))\n",
    "\n",
    "        return (\n",
    "            torch.tensor(padded_token_ids),\n",
    "            torch.tensor(padded_label_ids),\n",
    "            torch.tensor(mask)\n",
    "        )\n",
    "\n",
    "def load_embeddings(embedding_path):\n",
    "    \"\"\"Reading word vectors from file\"\"\"\n",
    "    word2vec = {}\n",
    "    with open(embedding_path, \"r\", encoding=\"utf-8\") as f:\n",
    "        for line in f:\n",
    "            parts = line.strip().split()\n",
    "            word = parts[0]\n",
    "            vector = np.array(parts[1:], dtype=\"float32\")\n",
    "            word2vec[word] = vector\n",
    "    return word2vec\n",
    "\n",
    "def build_embedding_matrix(embeddings, vocab, word2idx, embedding_dim=300):\n",
    "    \"\"\"Creating numerical representations for vocabulary\"\"\"\n",
    "    embedding_matrix = np.zeros((len(vocab), embedding_dim))\n",
    "    for word, idx in word2idx.items():\n",
    "        if word in embeddings:\n",
    "            embedding_matrix[idx] = embeddings[word]\n",
    "        else:\n",
    "            # Handling unknown words with random vectors\n",
    "            embedding_matrix[idx] = np.random.normal(scale=0.6, size=(embedding_dim,))\n",
    "    return embedding_matrix\n",
    "\n",
    "class GRUModel(nn.Module):\n",
    "    \"\"\"GRU-based sequence classification model\"\"\"\n",
    "    def __init__(self, vocab_size, embedding_dim=300, hidden_dim=128, \n",
    "                 num_layers=1, bidirectional=True, embedding_weights=None):\n",
    "        super().__init__()\n",
    "        self.embedding = nn.Embedding(vocab_size, embedding_dim)\n",
    "        if embedding_weights is not None:\n",
    "            # Using pretrained word vectors\n",
    "            self.embedding.weight.data.copy_(torch.from_numpy(embedding_weights))\n",
    "            self.embedding.weight.requires_grad = False  # Keeping embeddings fixed\n",
    "\n",
    "        self.gru = nn.GRU(\n",
    "            input_size=embedding_dim,\n",
    "            hidden_size=hidden_dim,\n",
    "            num_layers=num_layers,\n",
    "            bidirectional=bidirectional,\n",
    "            batch_first=True\n",
    "        )\n",
    "        self.fc = nn.Linear(hidden_dim * 2 if bidirectional else hidden_dim, 3)\n",
    "\n",
    "    def forward(self, x):\n",
    "        # Processing sequence through network\n",
    "        embedded = self.embedding(x)\n",
    "        output, _ = self.gru(embedded)\n",
    "        return self.fc(output)\n",
    "\n",
    "def save_predictions(model, data_loader, word2idx, idx2label, output_file=\"output.txt\"):\n",
    "    \"\"\"Writing model predictions to file\"\"\"\n",
    "    device = torch.device(\"cuda\" if torch.cuda.is_available() else \"cpu\")\n",
    "    model.to(device)\n",
    "    model.eval()\n",
    "\n",
    "    idx2word = {idx: word for word, idx in word2idx.items()}\n",
    "\n",
    "    with open(output_file, \"w\") as f:\n",
    "        for batch in data_loader:\n",
    "            token_ids, label_ids, mask = [t.to(device) for t in batch]\n",
    "            with torch.no_grad():\n",
    "                # Generating predictions\n",
    "                logits = model(token_ids)\n",
    "                preds = torch.argmax(logits, dim=-1).cpu().numpy()\n",
    "                labels = label_ids.cpu().numpy()\n",
    "\n",
    "            tokens = [[idx2word[idx] for idx in seq] for seq in token_ids.cpu().numpy()]\n",
    "\n",
    "            for i in range(len(tokens)):\n",
    "                for j in range(len(tokens[i])):\n",
    "                    if mask[i][j] == 1:  # Skipping padding\n",
    "                        token = tokens[i][j]\n",
    "                        true_tag = idx2label[labels[i][j]]\n",
    "                        pred_tag = idx2label[preds[i][j]]\n",
    "\n",
    "                        # Formatting labels for evaluation\n",
    "                        true_tag = f\"{true_tag}-ASPECT\" if true_tag != \"O\" else \"O\"\n",
    "                        pred_tag = f\"{pred_tag}-ASPECT\" if pred_tag != \"O\" else \"O\"\n",
    "\n",
    "                        f.write(f\"{token} {true_tag} {pred_tag}\\n\")\n",
    "                f.write(\"\\n\")  # Separating sentences\n",
    "\n",
    "# Main inference workflow\n",
    "def run_inference(input_json_path, model_path, output_path):\n",
    "    # Processing input data\n",
    "    temp_processed_path = \"temp_processed.json\"\n",
    "    preprocess_file(input_json_path, temp_processed_path)\n",
    "\n",
    "    # Loading vocabulary and embeddings\n",
    "    glove_emb = load_embeddings(\"glove.6B.300d.txt\")\n",
    "    vocab = [\"<pad>\", \"<unk>\"] + list(glove_emb.keys())\n",
    "    word2idx = {word: idx for idx, word in enumerate(vocab)}\n",
    "    label2idx = {\"O\": 0, \"B\": 1, \"I\": 2}\n",
    "    idx2label = {v: k for k, v in label2idx.items()}\n",
    "\n",
    "    # Preparing data batches\n",
    "    dataset = AspectDataset(temp_processed_path, word2idx, label2idx)\n",
    "    loader = DataLoader(dataset, batch_size=32, shuffle=False)\n",
    "\n",
    "    # Initializing model with trained weights\n",
    "    model = GRUModel(\n",
    "        vocab_size=len(vocab),\n",
    "        embedding_dim=300,\n",
    "        hidden_dim=256,\n",
    "        num_layers=3,\n",
    "        bidirectional=False,\n",
    "        embedding_weights=build_embedding_matrix(glove_emb, vocab, word2idx)\n",
    "    )\n",
    "    model.load_state_dict(torch.load(model_path, map_location=torch.device('cpu')))\n",
    "    model.eval()\n",
    "\n",
    "    # Generating and saving predictions\n",
    "    save_predictions(model, loader, word2idx, idx2label, output_path)\n",
    "\n",
    "if __name__ == \"__main__\":\n",
    "    run_inference(\n",
    "        input_json_path=\"test.json\",\n",
    "        model_path=\"gru_glove.pt\",\n",
    "        output_path=\"predictions.txt\"\n",
    "    )"
   ]
  },
  {
   "cell_type": "code",
   "execution_count": null,
   "metadata": {},
   "outputs": [],
   "source": []
  }
 ],
 "metadata": {
  "kernelspec": {
   "display_name": "acad",
   "language": "python",
   "name": "python3"
  },
  "language_info": {
   "codemirror_mode": {
    "name": "ipython",
    "version": 3
   },
   "file_extension": ".py",
   "mimetype": "text/x-python",
   "name": "python",
   "nbconvert_exporter": "python",
   "pygments_lexer": "ipython3",
   "version": "3.12.7"
  }
 },
 "nbformat": 4,
 "nbformat_minor": 2
}
